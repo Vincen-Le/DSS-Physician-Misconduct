{
 "cells": [
  {
   "cell_type": "code",
   "execution_count": 2,
   "id": "75a259c6",
   "metadata": {},
   "outputs": [
    {
     "name": "stdout",
     "output_type": "stream",
     "text": [
      "Requirement already satisfied: PyPDF2 in /Users/vincentle/opt/anaconda3/lib/python3.9/site-packages (3.0.1)\n",
      "Requirement already satisfied: typing_extensions>=3.10.0.0 in /Users/vincentle/opt/anaconda3/lib/python3.9/site-packages (from PyPDF2) (4.1.1)\n",
      "Note: you may need to restart the kernel to use updated packages.\n"
     ]
    }
   ],
   "source": [
    "pip install PyPDF2"
   ]
  },
  {
   "cell_type": "code",
   "execution_count": 3,
   "id": "20d4b5e2",
   "metadata": {},
   "outputs": [
    {
     "name": "stdout",
     "output_type": "stream",
     "text": [
      "Requirement already satisfied: pytesseract in /Users/vincentle/opt/anaconda3/lib/python3.9/site-packages (0.3.10)\n",
      "Requirement already satisfied: Pillow>=8.0.0 in /Users/vincentle/opt/anaconda3/lib/python3.9/site-packages (from pytesseract) (9.0.1)\n",
      "Requirement already satisfied: packaging>=21.3 in /Users/vincentle/opt/anaconda3/lib/python3.9/site-packages (from pytesseract) (21.3)\n",
      "Requirement already satisfied: pyparsing!=3.0.5,>=2.0.2 in /Users/vincentle/opt/anaconda3/lib/python3.9/site-packages (from packaging>=21.3->pytesseract) (3.0.4)\n",
      "Note: you may need to restart the kernel to use updated packages.\n"
     ]
    }
   ],
   "source": [
    "pip install pytesseract"
   ]
  },
  {
   "cell_type": "code",
   "execution_count": 4,
   "id": "a600dcad",
   "metadata": {},
   "outputs": [
    {
     "name": "stdout",
     "output_type": "stream",
     "text": [
      "Requirement already satisfied: pdf2image in /Users/vincentle/opt/anaconda3/lib/python3.9/site-packages (1.16.3)\n",
      "Requirement already satisfied: pillow in /Users/vincentle/opt/anaconda3/lib/python3.9/site-packages (from pdf2image) (9.0.1)\n",
      "Note: you may need to restart the kernel to use updated packages.\n"
     ]
    }
   ],
   "source": [
    "pip install pdf2image"
   ]
  },
  {
   "cell_type": "code",
   "execution_count": 11,
   "id": "b5285a97",
   "metadata": {},
   "outputs": [
    {
     "name": "stdout",
     "output_type": "stream",
     "text": [
      "Page # 0 - b'Final Order No. DOH-09-2608- FOL\\nFILED DATE -\\n\\nDepartment of Health\\nSTATE OF FLORIDA wr Qngede Sattar\\nBOARD OF MASSAGE THERAPY ty Agency Clerk\\nDEPARTMENT OF HEALTH,\\nPetitioner,\\nVs. Case No.: 2008-11963\\n. License No.: MM 19597\\n#1 ANGEL SPA, INC.,\\n\\nRespondent.\\n/\\n\\nFINAL ORDER FOR DETERMINATION OF WAIVER\\n\\nThis matter appeared before the Board of Massage Therapy at a duly-noticed public\\nmeeting on October 29, 2009, in Orlando, Florida, for a hearing not involving disputed issues of\\nmaterial fact pursuant to Sections 120.569 and 120.57(2), Florida Statutes, pursuant to\\nPetitioner\\xe2\\x80\\x99s Motion for Final Order. Petitioner has filed an Administrative Complaint seeking\\ndisciplinary action against the license. A copy of the Administrative Complaint was served on\\nRespondent by certified mail and is attached to and made a part of this Final Order. At the\\nhearing, Petitioner was represented by S.J. DiConcilio, Assistant General Counsel, Department\\nof Health. Respondent was not present.\\n\\nUpon consideration it is ORDERED:\\n\\n1. The materia] facts are not in dispute. The Respondent was duly served with the\\nAdministrative Complaint and has waived the right to request a hearing by failing to respond to\\nthe Administrative Complaint within 21 days of service.\\n\\n2. Petitioner\\xe2\\x80\\x99s motion for final order is granted.\\n\\n3. The allegations of fact set forth in the Administrative Complaint, are approved,\\n\\nadopted, and incorporated herein by reference as the findings of fact made by the Board.\\n'\n",
      "Page # 1 - b'4. The allegations of law alleged and set forth in the Administrative Complaint are\\napproved, adopted, and incorporated herein by reference as the conclusions of law made by the\\nBoard.\\n\\n5. The violations set forth in the Administrative Complaint warrant disciplinary\\naction by the Board.\\n\\nTHEREFORE IT IS ORDERED AND ADJUDGED:\\n\\n6. Respondent\\xe2\\x80\\x99s license is hereby Reprimanded and Revoked.\\n\\n7. Respondent shall pay an administrative fine in the amount of $4750.00 within 30\\ndays of the date this Final Order is filed.\\n\\n8. Respondent shall pay $1238.04 costs of investigation and prosecution to the\\nBoard within 30 days of the date this Final Order is filed.\\n\\n9. Payment of fines and costs shall be made to the Board of Massage Therapy and\\nmailed to, DOH-Client Services, P.O. Box 6320, Tallahassee, Florida 323 14-6320, Attention:\\nMassage Therapy Compliance Officer.\\n\\nThis Final Order shall become effective upon filing with the Clerk of the Department of\\nHealth.\\n\\nDONE AND ORDERED this 247\\xe2\\x80\\x9d day of Purr Aer , 2009.\\n\\nBOARD OF MASSAGE THERAPY\\n\\nKAYE HOWERTON\\n\\nEXECUTIVE DIRECTOR FOR\\nLYNDA SOLIEN-WOLFE, CHAIR\\n\\n'\n",
      "Page # 2 - b'7004 2510 OO04 4bbO 631b\\n\\nNOTICE OF APPEAL RIGHTS\\n\\nPURSUANT TO SECTION 120.68 FLORIDA STATUTES, A PARTY WHO IS\\nADVERSELY AFFECTED BY THIS FINAL ORDER IS ENTITLED TO JUDICIAL REVIEW\\nUNLESS WAIVED. PROCEEDINGS ARE GOVERNED BY THE FLORIDA RULES OF\\nAPPELLATE PROCEDURE. SUCH PROCEEDINGS ARE COMMENCED BY FILING ONE\\nCOPY OF THE NOTICE OF APPEAL WITH THE AGENCY CLERK OF THE\\nDEPARTMENT OF HEALTH AND A SECOND COPY, ACCOMPANIED BY FILING FEES\\nPRESCRIBED BY LAW, WITH THE DISTRICT COURT OF APPEALS, FIRST DISTRICT,\\nOR WITH THE DISTRICT COURT OF APPEAL IN THE APPELLATE DISTRICT WHERE\\nTHE PARTY RESIDES. THE NOTICE OF APPEAL MUST BE FILED WITHIN THIRTY\\n(30) DAYS OF RENDITION OF THE ORDER TO BE REVIEWED.\\n\\nCERTIFICATE OF SERVICE\\nI HEREBY CERTIFY that a true and correct copy of the foregoing has been furnished by\\nU.S. Mail to #1 Angel Spa, Inc., 213 State Road 434 North, Longwood, Florida 32750 by\\ninteroffice mail to Allison Dudley, Assistant Attorney General, Office of the Attorney General,\\nPL-01, The Capitol, Tallahassee, Florida 32399-1050; to S.J. DiConcilio, Assistant General\\n\\nCounsel, Department of Health, 4052 Bald Cypress Way, Bin # C-65, Tallahassee, Florida\\n\\n32399-3265 this 2 day of Diora bee 2009.\\n\\nUS. Postal Service\\n\\nCERTIFIED MAIL. RECEIPT\\n(Domestic Mail Only; No insurance Coverage Pravided} ; Deputy Agency Clerk\\n\\nFor delivery information visit our website at www.usps.com\\n\\nOFFICIAL USE\\nfs\\n\\n'\n",
      "Page # 3 - b'DEPARTMENT OF HEALTH\\n\\n_ DEPARTMENT OF HEALTH,\\nPETITIONER; | .\\nv. a --_ CASE NO, 2008-11963\\n#1 ANGEL SPA, INC.,.\\nRESPONDENT.\\n\"ADMINISTRATIVE COMPLAINT\\n\\n_ COMES NOW, Petitioner, Department of Health, by and through its\\nundersigned counsel, and files this \\xe2\\x80\\x98Administrative Complaint before the\\nBoard of Massage Therapy -against: Respondent #1 Angel Spa, Inc.\\n\\n. (Angel), and in support thereof alleges:\\n\\n\\xe2\\x80\\x9c1.\\xe2\\x80\\x9d Petitioner is the state department charged | with regulating\\nthe practice of. massage therapy pursuant to Section 20. 43, Florida\\nStatutes; Chapter 456, Florida Statutes; and Chapter 480, Florida -\\nStatutes. / | | an\\n\\n2. Atal times material to this complaint, Respondent was a\\nlicensed massage establishment within the state of Florida, having ,\\n\\n- been issued license number MM19597 on or about \\xe2\\x80\\x98April 10, 2007,\\n\\nfical\\\\DICONCIUO\\\\MASSAGE BOARD\\\\# Angel Spee 0485- 2008-11963\\\\AC, doc\\xe2\\x80\\x9d\\n\\n4196 |\\n'\n",
      "Page # 4 - b'. _Longwood, Florida 32750. , ee\\n\\n4. During March 2008, the Cty/County Investigative Bureau\\n(CCIB) i in Seminole County conducted surveillance and an investigation.\\nof possible prostitution occurring at #1 Angel Spa, Inc, (hereinafter\\nreferred to as Angel), located at the above address.. .\\n\\n5. Onor about March 4, 2008, during the investigation, a\\nmale, MT, exited Angel and was detained and questioned bya CCIB\\n\\xe2\\x80\\x9cagent regarding services rendered. M.T. stated that he paid in US\\ncurrency and received a half hour \\xe2\\x80\\x9cbody scrub\\xe2\\x80\\x9d from U.J.S., whom he\\nidentified from a photo provided by a CCIB agent,\\n6 A review of Petitioner\\'s licensure records revealed that U.J.S.\\nis not a licensed massage therapist in the State of Florida.\\n\\n7. On or about March 5, 2008, during the investigation, at\\napproximately 10:27 hours, a male, JR, \\xe2\\x80\\x98exited Angel and was .\\ndetained and questioned by-a CCIB agent regarding services rendered.\\nJR, gave a sworn statement that he received a \\xe2\\x80\\x9cbody scrub\\xe2\\x80\\x9d and a\\n\\nmassage from J.M.C, and that she masturbated him to climax, in\\n\\nsical DICONCILIO\\\\MASSAGE BOARD\\\\#1Angel Spa-(e)(j). 0485; 2008-11963\\\\AC. doc\\n\\n4197\" ae\\n\\n'\n",
      "Page # 5 - b'_ 4198\\n\\nby a CCIB agent.\\n\\n8, On or about March 12, 2008, at approximately 1413 hours,\\na male, B.P.S., exited Angel and was detained.and questioned by a CCIB\\nagent regarding services rendered. B:P.S: gave a sworn statement that.\\nhe received a massage from S.L, and that S.L. masturbated him in\\nexchange. for US currency. B.P.S. \\xe2\\x80\\x9cpositively identified S.L. from a\\nphotograph provided by a CCIB agent. .\\n\\n9, Also, on or about March 12, 2008, at approximately 1657 |\\n. hours, a male, J.S., exited Angel and was detairied and questioned bya..\\n\\xe2\\x80\\x9cCCIB agent regarding services rendered. Is. gave a sworn statement\\n- that he received a. massage from an -Asian female and that she .\\nmasturbated him to completion, in exchange for US Currency,\\n\\n\\xc2\\xb0 10. On or about March 18, 2008, at approximately.1506 hours, a\\n\\n. male, TIS, exited Angel and was detained and questioned by a CCIB\\nagent regarding services rendered. T.J.S. gave a sworn statement that\\nhe received a massage from U.J.S, whom he identified from U.J.S.\\xe2\\x80\\x99S\\n\\n- Florida drivers license provided to. him by a CCI agent, in n exchange for\\n\\n-US currency.\\n\\nlical\\\\DICONCILIO\\\\MASSAGE BOARD \\\\#1Angel Spa-(e){j).0485-2008-1 1963\\\\AC.doc\\n\\n'\n",
      "Page # 6 - b\"11. _On or about March 18, 2008, at approximately 1613 hours, a\\n\\nmale, J.S.P., exited Angel and was detained and questioned by a CCIB\\n\\xe2\\x80\\x9cagent regarding services rendered, 'J.S.P. gave a sworn statement that\\nhe received a massage from J.M.C, whom he identified a photo provided\\nby a CCIB agent, and that 1M. masturbated him to completion, in\\n_ exchange for US currency. |\\n12. On or about March 18, 2008, at approximately 1818 hours, a\\nmale, D.R.K., exited Angel and was detained and questioned by a CCIB\\nagent regarding services rendered. D.R.K. gave a sworn statement that\\nhe received a massage from 3.M.C. whom he identified from a photo\\nprovided by a CCIB agent, and that J.M.C. masturbated him. to\\ncomipletion, in exchange for US currency.\\n_ 13, Onor about March 18, 2008, at approximately 2148 hours, a\\nmale, C.W., exited Angel and was detained and questioned by a CcIB\\nagent regarding services rendered. CW, gave a sworn statement that |\\nhe received a massage from J.M.C., and that J.M.C. masturbated him to -\\ncompletion, in exchange for US currency. . . .\\n14, On or about March 19, 2008, at approximately 1550 hours,2\\xc2\\xb0,\\n\\nmale, J.7.C,, exited Angel and was detained and questioned by a CCIB\\n\\n4 .\\nical\\\\DICONCILIC\\\\MASSAGE BOARD\\\\# i Angel Spa-(e){j).0485-2008-11963\\\\AC.doc\\n\\n4199 ee\\n\"\n"
     ]
    },
    {
     "ename": "KeyboardInterrupt",
     "evalue": "",
     "output_type": "error",
     "traceback": [
      "\u001b[0;31m---------------------------------------------------------------------------\u001b[0m",
      "\u001b[0;31mKeyboardInterrupt\u001b[0m                         Traceback (most recent call last)",
      "Input \u001b[0;32mIn [11]\u001b[0m, in \u001b[0;36m<cell line: 12>\u001b[0;34m()\u001b[0m\n\u001b[1;32m     12\u001b[0m \u001b[38;5;28;01mfor\u001b[39;00m page_number, page_data \u001b[38;5;129;01min\u001b[39;00m \u001b[38;5;28menumerate\u001b[39m(doc):\n\u001b[1;32m     13\u001b[0m     parray \u001b[38;5;241m=\u001b[39m np\u001b[38;5;241m.\u001b[39masarray(page_data)\n\u001b[0;32m---> 14\u001b[0m     txt \u001b[38;5;241m=\u001b[39m \u001b[43mpytesseract\u001b[49m\u001b[38;5;241;43m.\u001b[39;49m\u001b[43mimage_to_string\u001b[49m\u001b[43m(\u001b[49m\u001b[43mImage\u001b[49m\u001b[38;5;241;43m.\u001b[39;49m\u001b[43mfromarray\u001b[49m\u001b[43m(\u001b[49m\u001b[43mparray\u001b[49m\u001b[43m)\u001b[49m\u001b[43m)\u001b[49m\u001b[38;5;241m.\u001b[39mencode(\u001b[38;5;124m\"\u001b[39m\u001b[38;5;124mutf-8\u001b[39m\u001b[38;5;124m\"\u001b[39m)\n\u001b[1;32m     15\u001b[0m     \u001b[38;5;28mprint\u001b[39m(\u001b[38;5;124m\"\u001b[39m\u001b[38;5;124mPage # \u001b[39m\u001b[38;5;132;01m{}\u001b[39;00m\u001b[38;5;124m - \u001b[39m\u001b[38;5;132;01m{}\u001b[39;00m\u001b[38;5;124m\"\u001b[39m\u001b[38;5;241m.\u001b[39mformat(\u001b[38;5;28mstr\u001b[39m(page_number),txt))\n",
      "File \u001b[0;32m~/opt/anaconda3/lib/python3.9/site-packages/pytesseract/pytesseract.py:423\u001b[0m, in \u001b[0;36mimage_to_string\u001b[0;34m(image, lang, config, nice, output_type, timeout)\u001b[0m\n\u001b[1;32m    418\u001b[0m \u001b[38;5;124;03m\"\"\"\u001b[39;00m\n\u001b[1;32m    419\u001b[0m \u001b[38;5;124;03mReturns the result of a Tesseract OCR run on the provided image to string\u001b[39;00m\n\u001b[1;32m    420\u001b[0m \u001b[38;5;124;03m\"\"\"\u001b[39;00m\n\u001b[1;32m    421\u001b[0m args \u001b[38;5;241m=\u001b[39m [image, \u001b[38;5;124m'\u001b[39m\u001b[38;5;124mtxt\u001b[39m\u001b[38;5;124m'\u001b[39m, lang, config, nice, timeout]\n\u001b[0;32m--> 423\u001b[0m \u001b[38;5;28;01mreturn\u001b[39;00m \u001b[43m{\u001b[49m\n\u001b[1;32m    424\u001b[0m \u001b[43m    \u001b[49m\u001b[43mOutput\u001b[49m\u001b[38;5;241;43m.\u001b[39;49m\u001b[43mBYTES\u001b[49m\u001b[43m:\u001b[49m\u001b[43m \u001b[49m\u001b[38;5;28;43;01mlambda\u001b[39;49;00m\u001b[43m:\u001b[49m\u001b[43m \u001b[49m\u001b[43mrun_and_get_output\u001b[49m\u001b[43m(\u001b[49m\u001b[38;5;241;43m*\u001b[39;49m\u001b[43m(\u001b[49m\u001b[43margs\u001b[49m\u001b[43m \u001b[49m\u001b[38;5;241;43m+\u001b[39;49m\u001b[43m \u001b[49m\u001b[43m[\u001b[49m\u001b[38;5;28;43;01mTrue\u001b[39;49;00m\u001b[43m]\u001b[49m\u001b[43m)\u001b[49m\u001b[43m)\u001b[49m\u001b[43m,\u001b[49m\n\u001b[1;32m    425\u001b[0m \u001b[43m    \u001b[49m\u001b[43mOutput\u001b[49m\u001b[38;5;241;43m.\u001b[39;49m\u001b[43mDICT\u001b[49m\u001b[43m:\u001b[49m\u001b[43m \u001b[49m\u001b[38;5;28;43;01mlambda\u001b[39;49;00m\u001b[43m:\u001b[49m\u001b[43m \u001b[49m\u001b[43m{\u001b[49m\u001b[38;5;124;43m'\u001b[39;49m\u001b[38;5;124;43mtext\u001b[39;49m\u001b[38;5;124;43m'\u001b[39;49m\u001b[43m:\u001b[49m\u001b[43m \u001b[49m\u001b[43mrun_and_get_output\u001b[49m\u001b[43m(\u001b[49m\u001b[38;5;241;43m*\u001b[39;49m\u001b[43margs\u001b[49m\u001b[43m)\u001b[49m\u001b[43m}\u001b[49m\u001b[43m,\u001b[49m\n\u001b[1;32m    426\u001b[0m \u001b[43m    \u001b[49m\u001b[43mOutput\u001b[49m\u001b[38;5;241;43m.\u001b[39;49m\u001b[43mSTRING\u001b[49m\u001b[43m:\u001b[49m\u001b[43m \u001b[49m\u001b[38;5;28;43;01mlambda\u001b[39;49;00m\u001b[43m:\u001b[49m\u001b[43m \u001b[49m\u001b[43mrun_and_get_output\u001b[49m\u001b[43m(\u001b[49m\u001b[38;5;241;43m*\u001b[39;49m\u001b[43margs\u001b[49m\u001b[43m)\u001b[49m\u001b[43m,\u001b[49m\n\u001b[1;32m    427\u001b[0m \u001b[43m\u001b[49m\u001b[43m}\u001b[49m\u001b[43m[\u001b[49m\u001b[43moutput_type\u001b[49m\u001b[43m]\u001b[49m\u001b[43m(\u001b[49m\u001b[43m)\u001b[49m\n",
      "File \u001b[0;32m~/opt/anaconda3/lib/python3.9/site-packages/pytesseract/pytesseract.py:426\u001b[0m, in \u001b[0;36mimage_to_string.<locals>.<lambda>\u001b[0;34m()\u001b[0m\n\u001b[1;32m    418\u001b[0m \u001b[38;5;124;03m\"\"\"\u001b[39;00m\n\u001b[1;32m    419\u001b[0m \u001b[38;5;124;03mReturns the result of a Tesseract OCR run on the provided image to string\u001b[39;00m\n\u001b[1;32m    420\u001b[0m \u001b[38;5;124;03m\"\"\"\u001b[39;00m\n\u001b[1;32m    421\u001b[0m args \u001b[38;5;241m=\u001b[39m [image, \u001b[38;5;124m'\u001b[39m\u001b[38;5;124mtxt\u001b[39m\u001b[38;5;124m'\u001b[39m, lang, config, nice, timeout]\n\u001b[1;32m    423\u001b[0m \u001b[38;5;28;01mreturn\u001b[39;00m {\n\u001b[1;32m    424\u001b[0m     Output\u001b[38;5;241m.\u001b[39mBYTES: \u001b[38;5;28;01mlambda\u001b[39;00m: run_and_get_output(\u001b[38;5;241m*\u001b[39m(args \u001b[38;5;241m+\u001b[39m [\u001b[38;5;28;01mTrue\u001b[39;00m])),\n\u001b[1;32m    425\u001b[0m     Output\u001b[38;5;241m.\u001b[39mDICT: \u001b[38;5;28;01mlambda\u001b[39;00m: {\u001b[38;5;124m'\u001b[39m\u001b[38;5;124mtext\u001b[39m\u001b[38;5;124m'\u001b[39m: run_and_get_output(\u001b[38;5;241m*\u001b[39margs)},\n\u001b[0;32m--> 426\u001b[0m     Output\u001b[38;5;241m.\u001b[39mSTRING: \u001b[38;5;28;01mlambda\u001b[39;00m: \u001b[43mrun_and_get_output\u001b[49m\u001b[43m(\u001b[49m\u001b[38;5;241;43m*\u001b[39;49m\u001b[43margs\u001b[49m\u001b[43m)\u001b[49m,\n\u001b[1;32m    427\u001b[0m }[output_type]()\n",
      "File \u001b[0;32m~/opt/anaconda3/lib/python3.9/site-packages/pytesseract/pytesseract.py:288\u001b[0m, in \u001b[0;36mrun_and_get_output\u001b[0;34m(image, extension, lang, config, nice, timeout, return_bytes)\u001b[0m\n\u001b[1;32m    277\u001b[0m \u001b[38;5;28;01mwith\u001b[39;00m save(image) \u001b[38;5;28;01mas\u001b[39;00m (temp_name, input_filename):\n\u001b[1;32m    278\u001b[0m     kwargs \u001b[38;5;241m=\u001b[39m {\n\u001b[1;32m    279\u001b[0m         \u001b[38;5;124m'\u001b[39m\u001b[38;5;124minput_filename\u001b[39m\u001b[38;5;124m'\u001b[39m: input_filename,\n\u001b[1;32m    280\u001b[0m         \u001b[38;5;124m'\u001b[39m\u001b[38;5;124moutput_filename_base\u001b[39m\u001b[38;5;124m'\u001b[39m: temp_name,\n\u001b[0;32m   (...)\u001b[0m\n\u001b[1;32m    285\u001b[0m         \u001b[38;5;124m'\u001b[39m\u001b[38;5;124mtimeout\u001b[39m\u001b[38;5;124m'\u001b[39m: timeout,\n\u001b[1;32m    286\u001b[0m     }\n\u001b[0;32m--> 288\u001b[0m     \u001b[43mrun_tesseract\u001b[49m\u001b[43m(\u001b[49m\u001b[38;5;241;43m*\u001b[39;49m\u001b[38;5;241;43m*\u001b[39;49m\u001b[43mkwargs\u001b[49m\u001b[43m)\u001b[49m\n\u001b[1;32m    289\u001b[0m     filename \u001b[38;5;241m=\u001b[39m \u001b[38;5;124mf\u001b[39m\u001b[38;5;124m\"\u001b[39m\u001b[38;5;132;01m{\u001b[39;00mkwargs[\u001b[38;5;124m'\u001b[39m\u001b[38;5;124moutput_filename_base\u001b[39m\u001b[38;5;124m'\u001b[39m]\u001b[38;5;132;01m}\u001b[39;00m\u001b[38;5;132;01m{\u001b[39;00mextsep\u001b[38;5;132;01m}\u001b[39;00m\u001b[38;5;132;01m{\u001b[39;00mextension\u001b[38;5;132;01m}\u001b[39;00m\u001b[38;5;124m\"\u001b[39m\n\u001b[1;32m    290\u001b[0m     \u001b[38;5;28;01mwith\u001b[39;00m \u001b[38;5;28mopen\u001b[39m(filename, \u001b[38;5;124m'\u001b[39m\u001b[38;5;124mrb\u001b[39m\u001b[38;5;124m'\u001b[39m) \u001b[38;5;28;01mas\u001b[39;00m output_file:\n",
      "File \u001b[0;32m~/opt/anaconda3/lib/python3.9/site-packages/pytesseract/pytesseract.py:262\u001b[0m, in \u001b[0;36mrun_tesseract\u001b[0;34m(input_filename, output_filename_base, extension, lang, config, nice, timeout)\u001b[0m\n\u001b[1;32m    259\u001b[0m     \u001b[38;5;28;01melse\u001b[39;00m:\n\u001b[1;32m    260\u001b[0m         \u001b[38;5;28;01mraise\u001b[39;00m TesseractNotFoundError()\n\u001b[0;32m--> 262\u001b[0m \u001b[38;5;28;01mwith\u001b[39;00m timeout_manager(proc, timeout) \u001b[38;5;28;01mas\u001b[39;00m error_string:\n\u001b[1;32m    263\u001b[0m     \u001b[38;5;28;01mif\u001b[39;00m proc\u001b[38;5;241m.\u001b[39mreturncode:\n\u001b[1;32m    264\u001b[0m         \u001b[38;5;28;01mraise\u001b[39;00m TesseractError(proc\u001b[38;5;241m.\u001b[39mreturncode, get_errors(error_string))\n",
      "File \u001b[0;32m~/opt/anaconda3/lib/python3.9/contextlib.py:119\u001b[0m, in \u001b[0;36m_GeneratorContextManager.__enter__\u001b[0;34m(self)\u001b[0m\n\u001b[1;32m    117\u001b[0m \u001b[38;5;28;01mdel\u001b[39;00m \u001b[38;5;28mself\u001b[39m\u001b[38;5;241m.\u001b[39margs, \u001b[38;5;28mself\u001b[39m\u001b[38;5;241m.\u001b[39mkwds, \u001b[38;5;28mself\u001b[39m\u001b[38;5;241m.\u001b[39mfunc\n\u001b[1;32m    118\u001b[0m \u001b[38;5;28;01mtry\u001b[39;00m:\n\u001b[0;32m--> 119\u001b[0m     \u001b[38;5;28;01mreturn\u001b[39;00m \u001b[38;5;28;43mnext\u001b[39;49m\u001b[43m(\u001b[49m\u001b[38;5;28;43mself\u001b[39;49m\u001b[38;5;241;43m.\u001b[39;49m\u001b[43mgen\u001b[49m\u001b[43m)\u001b[49m\n\u001b[1;32m    120\u001b[0m \u001b[38;5;28;01mexcept\u001b[39;00m \u001b[38;5;167;01mStopIteration\u001b[39;00m:\n\u001b[1;32m    121\u001b[0m     \u001b[38;5;28;01mraise\u001b[39;00m \u001b[38;5;167;01mRuntimeError\u001b[39;00m(\u001b[38;5;124m\"\u001b[39m\u001b[38;5;124mgenerator didn\u001b[39m\u001b[38;5;124m'\u001b[39m\u001b[38;5;124mt yield\u001b[39m\u001b[38;5;124m\"\u001b[39m) \u001b[38;5;28;01mfrom\u001b[39;00m \u001b[38;5;28mNone\u001b[39m\n",
      "File \u001b[0;32m~/opt/anaconda3/lib/python3.9/site-packages/pytesseract/pytesseract.py:127\u001b[0m, in \u001b[0;36mtimeout_manager\u001b[0;34m(proc, seconds)\u001b[0m\n\u001b[1;32m    125\u001b[0m \u001b[38;5;28;01mtry\u001b[39;00m:\n\u001b[1;32m    126\u001b[0m     \u001b[38;5;28;01mif\u001b[39;00m \u001b[38;5;129;01mnot\u001b[39;00m seconds:\n\u001b[0;32m--> 127\u001b[0m         \u001b[38;5;28;01myield\u001b[39;00m \u001b[43mproc\u001b[49m\u001b[38;5;241;43m.\u001b[39;49m\u001b[43mcommunicate\u001b[49m\u001b[43m(\u001b[49m\u001b[43m)\u001b[49m[\u001b[38;5;241m1\u001b[39m]\n\u001b[1;32m    128\u001b[0m         \u001b[38;5;28;01mreturn\u001b[39;00m\n\u001b[1;32m    130\u001b[0m     \u001b[38;5;28;01mtry\u001b[39;00m:\n",
      "File \u001b[0;32m~/opt/anaconda3/lib/python3.9/subprocess.py:1134\u001b[0m, in \u001b[0;36mPopen.communicate\u001b[0;34m(self, input, timeout)\u001b[0m\n\u001b[1;32m   1131\u001b[0m     endtime \u001b[38;5;241m=\u001b[39m \u001b[38;5;28;01mNone\u001b[39;00m\n\u001b[1;32m   1133\u001b[0m \u001b[38;5;28;01mtry\u001b[39;00m:\n\u001b[0;32m-> 1134\u001b[0m     stdout, stderr \u001b[38;5;241m=\u001b[39m \u001b[38;5;28;43mself\u001b[39;49m\u001b[38;5;241;43m.\u001b[39;49m\u001b[43m_communicate\u001b[49m\u001b[43m(\u001b[49m\u001b[38;5;28;43minput\u001b[39;49m\u001b[43m,\u001b[49m\u001b[43m \u001b[49m\u001b[43mendtime\u001b[49m\u001b[43m,\u001b[49m\u001b[43m \u001b[49m\u001b[43mtimeout\u001b[49m\u001b[43m)\u001b[49m\n\u001b[1;32m   1135\u001b[0m \u001b[38;5;28;01mexcept\u001b[39;00m \u001b[38;5;167;01mKeyboardInterrupt\u001b[39;00m:\n\u001b[1;32m   1136\u001b[0m     \u001b[38;5;66;03m# https://bugs.python.org/issue25942\u001b[39;00m\n\u001b[1;32m   1137\u001b[0m     \u001b[38;5;66;03m# See the detailed comment in .wait().\u001b[39;00m\n\u001b[1;32m   1138\u001b[0m     \u001b[38;5;28;01mif\u001b[39;00m timeout \u001b[38;5;129;01mis\u001b[39;00m \u001b[38;5;129;01mnot\u001b[39;00m \u001b[38;5;28;01mNone\u001b[39;00m:\n",
      "File \u001b[0;32m~/opt/anaconda3/lib/python3.9/subprocess.py:1979\u001b[0m, in \u001b[0;36mPopen._communicate\u001b[0;34m(self, input, endtime, orig_timeout)\u001b[0m\n\u001b[1;32m   1972\u001b[0m     \u001b[38;5;28mself\u001b[39m\u001b[38;5;241m.\u001b[39m_check_timeout(endtime, orig_timeout,\n\u001b[1;32m   1973\u001b[0m                         stdout, stderr,\n\u001b[1;32m   1974\u001b[0m                         skip_check_and_raise\u001b[38;5;241m=\u001b[39m\u001b[38;5;28;01mTrue\u001b[39;00m)\n\u001b[1;32m   1975\u001b[0m     \u001b[38;5;28;01mraise\u001b[39;00m \u001b[38;5;167;01mRuntimeError\u001b[39;00m(  \u001b[38;5;66;03m# Impossible :)\u001b[39;00m\n\u001b[1;32m   1976\u001b[0m         \u001b[38;5;124m'\u001b[39m\u001b[38;5;124m_check_timeout(..., skip_check_and_raise=True) \u001b[39m\u001b[38;5;124m'\u001b[39m\n\u001b[1;32m   1977\u001b[0m         \u001b[38;5;124m'\u001b[39m\u001b[38;5;124mfailed to raise TimeoutExpired.\u001b[39m\u001b[38;5;124m'\u001b[39m)\n\u001b[0;32m-> 1979\u001b[0m ready \u001b[38;5;241m=\u001b[39m \u001b[43mselector\u001b[49m\u001b[38;5;241;43m.\u001b[39;49m\u001b[43mselect\u001b[49m\u001b[43m(\u001b[49m\u001b[43mtimeout\u001b[49m\u001b[43m)\u001b[49m\n\u001b[1;32m   1980\u001b[0m \u001b[38;5;28mself\u001b[39m\u001b[38;5;241m.\u001b[39m_check_timeout(endtime, orig_timeout, stdout, stderr)\n\u001b[1;32m   1982\u001b[0m \u001b[38;5;66;03m# XXX Rewrite these to use non-blocking I/O on the file\u001b[39;00m\n\u001b[1;32m   1983\u001b[0m \u001b[38;5;66;03m# objects; they are no longer using C stdio!\u001b[39;00m\n",
      "File \u001b[0;32m~/opt/anaconda3/lib/python3.9/selectors.py:416\u001b[0m, in \u001b[0;36m_PollLikeSelector.select\u001b[0;34m(self, timeout)\u001b[0m\n\u001b[1;32m    414\u001b[0m ready \u001b[38;5;241m=\u001b[39m []\n\u001b[1;32m    415\u001b[0m \u001b[38;5;28;01mtry\u001b[39;00m:\n\u001b[0;32m--> 416\u001b[0m     fd_event_list \u001b[38;5;241m=\u001b[39m \u001b[38;5;28;43mself\u001b[39;49m\u001b[38;5;241;43m.\u001b[39;49m\u001b[43m_selector\u001b[49m\u001b[38;5;241;43m.\u001b[39;49m\u001b[43mpoll\u001b[49m\u001b[43m(\u001b[49m\u001b[43mtimeout\u001b[49m\u001b[43m)\u001b[49m\n\u001b[1;32m    417\u001b[0m \u001b[38;5;28;01mexcept\u001b[39;00m \u001b[38;5;167;01mInterruptedError\u001b[39;00m:\n\u001b[1;32m    418\u001b[0m     \u001b[38;5;28;01mreturn\u001b[39;00m ready\n",
      "\u001b[0;31mKeyboardInterrupt\u001b[0m: "
     ]
    }
   ],
   "source": [
    "import os\n",
    "import numpy as np\n",
    "from PIL import Image\n",
    "from pdf2image import convert_from_path\n",
    "import pytesseract\n",
    "\n",
    "filePath = 'Florida_Sample.pdf'\n",
    "doc = convert_from_path(filePath)\n",
    "path, fileName = os.path.split(filePath)\n",
    "fileBaseName, fileExtension = os.path.splitext(fileName)\n",
    "\n",
    "for page_number, page_data in enumerate(doc):\n",
    "    parray = np.asarray(page_data)\n",
    "    txt = pytesseract.image_to_string(Image.fromarray(parray)).encode(\"utf-8\")\n",
    "    print(\"Page # {} - {}\".format(str(page_number),txt))"
   ]
  },
  {
   "cell_type": "code",
   "execution_count": 6,
   "id": "23433bf4",
   "metadata": {},
   "outputs": [
    {
     "ename": "TesseractNotFoundError",
     "evalue": "tesseract is not installed or it's not in your PATH. See README file for more information.",
     "output_type": "error",
     "traceback": [
      "\u001b[0;31m---------------------------------------------------------------------------\u001b[0m",
      "\u001b[0;31mFileNotFoundError\u001b[0m                         Traceback (most recent call last)",
      "File \u001b[0;32m~/opt/anaconda3/lib/python3.9/site-packages/pytesseract/pytesseract.py:388\u001b[0m, in \u001b[0;36mget_tesseract_version\u001b[0;34m()\u001b[0m\n\u001b[1;32m    387\u001b[0m \u001b[38;5;28;01mtry\u001b[39;00m:\n\u001b[0;32m--> 388\u001b[0m     output \u001b[38;5;241m=\u001b[39m \u001b[43msubprocess\u001b[49m\u001b[38;5;241;43m.\u001b[39;49m\u001b[43mcheck_output\u001b[49m\u001b[43m(\u001b[49m\n\u001b[1;32m    389\u001b[0m \u001b[43m        \u001b[49m\u001b[43m[\u001b[49m\u001b[43mtesseract_cmd\u001b[49m\u001b[43m,\u001b[49m\u001b[43m \u001b[49m\u001b[38;5;124;43m'\u001b[39;49m\u001b[38;5;124;43m--version\u001b[39;49m\u001b[38;5;124;43m'\u001b[39;49m\u001b[43m]\u001b[49m\u001b[43m,\u001b[49m\n\u001b[1;32m    390\u001b[0m \u001b[43m        \u001b[49m\u001b[43mstderr\u001b[49m\u001b[38;5;241;43m=\u001b[39;49m\u001b[43msubprocess\u001b[49m\u001b[38;5;241;43m.\u001b[39;49m\u001b[43mSTDOUT\u001b[49m\u001b[43m,\u001b[49m\n\u001b[1;32m    391\u001b[0m \u001b[43m        \u001b[49m\u001b[43menv\u001b[49m\u001b[38;5;241;43m=\u001b[39;49m\u001b[43menviron\u001b[49m\u001b[43m,\u001b[49m\n\u001b[1;32m    392\u001b[0m \u001b[43m        \u001b[49m\u001b[43mstdin\u001b[49m\u001b[38;5;241;43m=\u001b[39;49m\u001b[43msubprocess\u001b[49m\u001b[38;5;241;43m.\u001b[39;49m\u001b[43mDEVNULL\u001b[49m\u001b[43m,\u001b[49m\n\u001b[1;32m    393\u001b[0m \u001b[43m    \u001b[49m\u001b[43m)\u001b[49m\n\u001b[1;32m    394\u001b[0m \u001b[38;5;28;01mexcept\u001b[39;00m \u001b[38;5;167;01mOSError\u001b[39;00m:\n",
      "File \u001b[0;32m~/opt/anaconda3/lib/python3.9/subprocess.py:424\u001b[0m, in \u001b[0;36mcheck_output\u001b[0;34m(timeout, *popenargs, **kwargs)\u001b[0m\n\u001b[1;32m    422\u001b[0m     kwargs[\u001b[38;5;124m'\u001b[39m\u001b[38;5;124minput\u001b[39m\u001b[38;5;124m'\u001b[39m] \u001b[38;5;241m=\u001b[39m empty\n\u001b[0;32m--> 424\u001b[0m \u001b[38;5;28;01mreturn\u001b[39;00m \u001b[43mrun\u001b[49m\u001b[43m(\u001b[49m\u001b[38;5;241;43m*\u001b[39;49m\u001b[43mpopenargs\u001b[49m\u001b[43m,\u001b[49m\u001b[43m \u001b[49m\u001b[43mstdout\u001b[49m\u001b[38;5;241;43m=\u001b[39;49m\u001b[43mPIPE\u001b[49m\u001b[43m,\u001b[49m\u001b[43m \u001b[49m\u001b[43mtimeout\u001b[49m\u001b[38;5;241;43m=\u001b[39;49m\u001b[43mtimeout\u001b[49m\u001b[43m,\u001b[49m\u001b[43m \u001b[49m\u001b[43mcheck\u001b[49m\u001b[38;5;241;43m=\u001b[39;49m\u001b[38;5;28;43;01mTrue\u001b[39;49;00m\u001b[43m,\u001b[49m\n\u001b[1;32m    425\u001b[0m \u001b[43m           \u001b[49m\u001b[38;5;241;43m*\u001b[39;49m\u001b[38;5;241;43m*\u001b[39;49m\u001b[43mkwargs\u001b[49m\u001b[43m)\u001b[49m\u001b[38;5;241m.\u001b[39mstdout\n",
      "File \u001b[0;32m~/opt/anaconda3/lib/python3.9/subprocess.py:505\u001b[0m, in \u001b[0;36mrun\u001b[0;34m(input, capture_output, timeout, check, *popenargs, **kwargs)\u001b[0m\n\u001b[1;32m    503\u001b[0m     kwargs[\u001b[38;5;124m'\u001b[39m\u001b[38;5;124mstderr\u001b[39m\u001b[38;5;124m'\u001b[39m] \u001b[38;5;241m=\u001b[39m PIPE\n\u001b[0;32m--> 505\u001b[0m \u001b[38;5;28;01mwith\u001b[39;00m \u001b[43mPopen\u001b[49m\u001b[43m(\u001b[49m\u001b[38;5;241;43m*\u001b[39;49m\u001b[43mpopenargs\u001b[49m\u001b[43m,\u001b[49m\u001b[43m \u001b[49m\u001b[38;5;241;43m*\u001b[39;49m\u001b[38;5;241;43m*\u001b[39;49m\u001b[43mkwargs\u001b[49m\u001b[43m)\u001b[49m \u001b[38;5;28;01mas\u001b[39;00m process:\n\u001b[1;32m    506\u001b[0m     \u001b[38;5;28;01mtry\u001b[39;00m:\n",
      "File \u001b[0;32m~/opt/anaconda3/lib/python3.9/subprocess.py:951\u001b[0m, in \u001b[0;36mPopen.__init__\u001b[0;34m(self, args, bufsize, executable, stdin, stdout, stderr, preexec_fn, close_fds, shell, cwd, env, universal_newlines, startupinfo, creationflags, restore_signals, start_new_session, pass_fds, user, group, extra_groups, encoding, errors, text, umask)\u001b[0m\n\u001b[1;32m    948\u001b[0m             \u001b[38;5;28mself\u001b[39m\u001b[38;5;241m.\u001b[39mstderr \u001b[38;5;241m=\u001b[39m io\u001b[38;5;241m.\u001b[39mTextIOWrapper(\u001b[38;5;28mself\u001b[39m\u001b[38;5;241m.\u001b[39mstderr,\n\u001b[1;32m    949\u001b[0m                     encoding\u001b[38;5;241m=\u001b[39mencoding, errors\u001b[38;5;241m=\u001b[39merrors)\n\u001b[0;32m--> 951\u001b[0m     \u001b[38;5;28;43mself\u001b[39;49m\u001b[38;5;241;43m.\u001b[39;49m\u001b[43m_execute_child\u001b[49m\u001b[43m(\u001b[49m\u001b[43margs\u001b[49m\u001b[43m,\u001b[49m\u001b[43m \u001b[49m\u001b[43mexecutable\u001b[49m\u001b[43m,\u001b[49m\u001b[43m \u001b[49m\u001b[43mpreexec_fn\u001b[49m\u001b[43m,\u001b[49m\u001b[43m \u001b[49m\u001b[43mclose_fds\u001b[49m\u001b[43m,\u001b[49m\n\u001b[1;32m    952\u001b[0m \u001b[43m                        \u001b[49m\u001b[43mpass_fds\u001b[49m\u001b[43m,\u001b[49m\u001b[43m \u001b[49m\u001b[43mcwd\u001b[49m\u001b[43m,\u001b[49m\u001b[43m \u001b[49m\u001b[43menv\u001b[49m\u001b[43m,\u001b[49m\n\u001b[1;32m    953\u001b[0m \u001b[43m                        \u001b[49m\u001b[43mstartupinfo\u001b[49m\u001b[43m,\u001b[49m\u001b[43m \u001b[49m\u001b[43mcreationflags\u001b[49m\u001b[43m,\u001b[49m\u001b[43m \u001b[49m\u001b[43mshell\u001b[49m\u001b[43m,\u001b[49m\n\u001b[1;32m    954\u001b[0m \u001b[43m                        \u001b[49m\u001b[43mp2cread\u001b[49m\u001b[43m,\u001b[49m\u001b[43m \u001b[49m\u001b[43mp2cwrite\u001b[49m\u001b[43m,\u001b[49m\n\u001b[1;32m    955\u001b[0m \u001b[43m                        \u001b[49m\u001b[43mc2pread\u001b[49m\u001b[43m,\u001b[49m\u001b[43m \u001b[49m\u001b[43mc2pwrite\u001b[49m\u001b[43m,\u001b[49m\n\u001b[1;32m    956\u001b[0m \u001b[43m                        \u001b[49m\u001b[43merrread\u001b[49m\u001b[43m,\u001b[49m\u001b[43m \u001b[49m\u001b[43merrwrite\u001b[49m\u001b[43m,\u001b[49m\n\u001b[1;32m    957\u001b[0m \u001b[43m                        \u001b[49m\u001b[43mrestore_signals\u001b[49m\u001b[43m,\u001b[49m\n\u001b[1;32m    958\u001b[0m \u001b[43m                        \u001b[49m\u001b[43mgid\u001b[49m\u001b[43m,\u001b[49m\u001b[43m \u001b[49m\u001b[43mgids\u001b[49m\u001b[43m,\u001b[49m\u001b[43m \u001b[49m\u001b[43muid\u001b[49m\u001b[43m,\u001b[49m\u001b[43m \u001b[49m\u001b[43mumask\u001b[49m\u001b[43m,\u001b[49m\n\u001b[1;32m    959\u001b[0m \u001b[43m                        \u001b[49m\u001b[43mstart_new_session\u001b[49m\u001b[43m)\u001b[49m\n\u001b[1;32m    960\u001b[0m \u001b[38;5;28;01mexcept\u001b[39;00m:\n\u001b[1;32m    961\u001b[0m     \u001b[38;5;66;03m# Cleanup if the child failed starting.\u001b[39;00m\n",
      "File \u001b[0;32m~/opt/anaconda3/lib/python3.9/subprocess.py:1821\u001b[0m, in \u001b[0;36mPopen._execute_child\u001b[0;34m(self, args, executable, preexec_fn, close_fds, pass_fds, cwd, env, startupinfo, creationflags, shell, p2cread, p2cwrite, c2pread, c2pwrite, errread, errwrite, restore_signals, gid, gids, uid, umask, start_new_session)\u001b[0m\n\u001b[1;32m   1820\u001b[0m         err_msg \u001b[38;5;241m=\u001b[39m os\u001b[38;5;241m.\u001b[39mstrerror(errno_num)\n\u001b[0;32m-> 1821\u001b[0m     \u001b[38;5;28;01mraise\u001b[39;00m child_exception_type(errno_num, err_msg, err_filename)\n\u001b[1;32m   1822\u001b[0m \u001b[38;5;28;01mraise\u001b[39;00m child_exception_type(err_msg)\n",
      "\u001b[0;31mFileNotFoundError\u001b[0m: [Errno 2] No such file or directory: 'tesseract'",
      "\nDuring handling of the above exception, another exception occurred:\n",
      "\u001b[0;31mTesseractNotFoundError\u001b[0m                    Traceback (most recent call last)",
      "Input \u001b[0;32mIn [6]\u001b[0m, in \u001b[0;36m<cell line: 11>\u001b[0;34m()\u001b[0m\n\u001b[1;32m      7\u001b[0m images \u001b[38;5;241m=\u001b[39m pdf2image\u001b[38;5;241m.\u001b[39mconvert_from_path(pdf_path)\n\u001b[1;32m      9\u001b[0m pil_im \u001b[38;5;241m=\u001b[39m images[\u001b[38;5;241m0\u001b[39m]\n\u001b[0;32m---> 11\u001b[0m ocr_dict \u001b[38;5;241m=\u001b[39m \u001b[43mpytesseract\u001b[49m\u001b[38;5;241;43m.\u001b[39;49m\u001b[43mimage_to_data\u001b[49m\u001b[43m(\u001b[49m\u001b[43mpdf_path\u001b[49m\u001b[43m,\u001b[49m\u001b[43m \u001b[49m\u001b[43mlang\u001b[49m\u001b[38;5;241;43m=\u001b[39;49m\u001b[38;5;124;43m'\u001b[39;49m\u001b[38;5;124;43meng\u001b[39;49m\u001b[38;5;124;43m'\u001b[39;49m\u001b[43m,\u001b[49m\u001b[43m \u001b[49m\u001b[43moutput_type\u001b[49m\u001b[38;5;241;43m=\u001b[39;49m\u001b[43mOutput\u001b[49m\u001b[38;5;241;43m.\u001b[39;49m\u001b[43mDICT\u001b[49m\u001b[43m)\u001b[49m\n\u001b[1;32m     13\u001b[0m text \u001b[38;5;241m=\u001b[39m \u001b[38;5;124m\"\u001b[39m\u001b[38;5;124m \u001b[39m\u001b[38;5;124m\"\u001b[39m\u001b[38;5;241m.\u001b[39mjoin(ocr_dict[\u001b[38;5;124m'\u001b[39m\u001b[38;5;124mtext\u001b[39m\u001b[38;5;124m'\u001b[39m])\n",
      "File \u001b[0;32m~/opt/anaconda3/lib/python3.9/site-packages/pytesseract/pytesseract.py:521\u001b[0m, in \u001b[0;36mimage_to_data\u001b[0;34m(image, lang, config, nice, output_type, timeout, pandas_config)\u001b[0m\n\u001b[1;32m    507\u001b[0m \u001b[38;5;28;01mdef\u001b[39;00m \u001b[38;5;21mimage_to_data\u001b[39m(\n\u001b[1;32m    508\u001b[0m     image,\n\u001b[1;32m    509\u001b[0m     lang\u001b[38;5;241m=\u001b[39m\u001b[38;5;28;01mNone\u001b[39;00m,\n\u001b[0;32m   (...)\u001b[0m\n\u001b[1;32m    514\u001b[0m     pandas_config\u001b[38;5;241m=\u001b[39m\u001b[38;5;28;01mNone\u001b[39;00m,\n\u001b[1;32m    515\u001b[0m ):\n\u001b[1;32m    516\u001b[0m     \u001b[38;5;124;03m\"\"\"\u001b[39;00m\n\u001b[1;32m    517\u001b[0m \u001b[38;5;124;03m    Returns string containing box boundaries, confidences,\u001b[39;00m\n\u001b[1;32m    518\u001b[0m \u001b[38;5;124;03m    and other information. Requires Tesseract 3.05+\u001b[39;00m\n\u001b[1;32m    519\u001b[0m \u001b[38;5;124;03m    \"\"\"\u001b[39;00m\n\u001b[0;32m--> 521\u001b[0m     \u001b[38;5;28;01mif\u001b[39;00m \u001b[43mget_tesseract_version\u001b[49m\u001b[43m(\u001b[49m\u001b[43m)\u001b[49m \u001b[38;5;241m<\u001b[39m TESSERACT_MIN_VERSION:\n\u001b[1;32m    522\u001b[0m         \u001b[38;5;28;01mraise\u001b[39;00m TSVNotSupported()\n\u001b[1;32m    524\u001b[0m     config \u001b[38;5;241m=\u001b[39m \u001b[38;5;124mf\u001b[39m\u001b[38;5;124m'\u001b[39m\u001b[38;5;124m-c tessedit_create_tsv=1 \u001b[39m\u001b[38;5;132;01m{\u001b[39;00mconfig\u001b[38;5;241m.\u001b[39mstrip()\u001b[38;5;132;01m}\u001b[39;00m\u001b[38;5;124m'\u001b[39m\n",
      "File \u001b[0;32m~/opt/anaconda3/lib/python3.9/site-packages/pytesseract/pytesseract.py:146\u001b[0m, in \u001b[0;36mrun_once.<locals>.wrapper\u001b[0;34m(*args, **kwargs)\u001b[0m\n\u001b[1;32m    143\u001b[0m \u001b[38;5;129m@wraps\u001b[39m(func)\n\u001b[1;32m    144\u001b[0m \u001b[38;5;28;01mdef\u001b[39;00m \u001b[38;5;21mwrapper\u001b[39m(\u001b[38;5;241m*\u001b[39margs, \u001b[38;5;241m*\u001b[39m\u001b[38;5;241m*\u001b[39mkwargs):\n\u001b[1;32m    145\u001b[0m     \u001b[38;5;28;01mif\u001b[39;00m wrapper\u001b[38;5;241m.\u001b[39m_result \u001b[38;5;129;01mis\u001b[39;00m wrapper:\n\u001b[0;32m--> 146\u001b[0m         wrapper\u001b[38;5;241m.\u001b[39m_result \u001b[38;5;241m=\u001b[39m \u001b[43mfunc\u001b[49m\u001b[43m(\u001b[49m\u001b[38;5;241;43m*\u001b[39;49m\u001b[43margs\u001b[49m\u001b[43m,\u001b[49m\u001b[43m \u001b[49m\u001b[38;5;241;43m*\u001b[39;49m\u001b[38;5;241;43m*\u001b[39;49m\u001b[43mkwargs\u001b[49m\u001b[43m)\u001b[49m\n\u001b[1;32m    147\u001b[0m     \u001b[38;5;28;01mreturn\u001b[39;00m wrapper\u001b[38;5;241m.\u001b[39m_result\n",
      "File \u001b[0;32m~/opt/anaconda3/lib/python3.9/site-packages/pytesseract/pytesseract.py:395\u001b[0m, in \u001b[0;36mget_tesseract_version\u001b[0;34m()\u001b[0m\n\u001b[1;32m    388\u001b[0m     output \u001b[38;5;241m=\u001b[39m subprocess\u001b[38;5;241m.\u001b[39mcheck_output(\n\u001b[1;32m    389\u001b[0m         [tesseract_cmd, \u001b[38;5;124m'\u001b[39m\u001b[38;5;124m--version\u001b[39m\u001b[38;5;124m'\u001b[39m],\n\u001b[1;32m    390\u001b[0m         stderr\u001b[38;5;241m=\u001b[39msubprocess\u001b[38;5;241m.\u001b[39mSTDOUT,\n\u001b[1;32m    391\u001b[0m         env\u001b[38;5;241m=\u001b[39menviron,\n\u001b[1;32m    392\u001b[0m         stdin\u001b[38;5;241m=\u001b[39msubprocess\u001b[38;5;241m.\u001b[39mDEVNULL,\n\u001b[1;32m    393\u001b[0m     )\n\u001b[1;32m    394\u001b[0m \u001b[38;5;28;01mexcept\u001b[39;00m \u001b[38;5;167;01mOSError\u001b[39;00m:\n\u001b[0;32m--> 395\u001b[0m     \u001b[38;5;28;01mraise\u001b[39;00m TesseractNotFoundError()\n\u001b[1;32m    397\u001b[0m raw_version \u001b[38;5;241m=\u001b[39m output\u001b[38;5;241m.\u001b[39mdecode(DEFAULT_ENCODING)\n\u001b[1;32m    398\u001b[0m str_version, \u001b[38;5;241m*\u001b[39m_ \u001b[38;5;241m=\u001b[39m raw_version\u001b[38;5;241m.\u001b[39mlstrip(string\u001b[38;5;241m.\u001b[39mprintable[\u001b[38;5;241m10\u001b[39m:])\u001b[38;5;241m.\u001b[39mpartition(\u001b[38;5;124m'\u001b[39m\u001b[38;5;124m \u001b[39m\u001b[38;5;124m'\u001b[39m)\n",
      "\u001b[0;31mTesseractNotFoundError\u001b[0m: tesseract is not installed or it's not in your PATH. See README file for more information."
     ]
    }
   ],
   "source": [
    "import pdf2image\n",
    "import pytesseract\n",
    "from pytesseract import Output, TesseractError\n",
    "\n",
    "pdf_path = \"Florida_Sample.pdf\"\n",
    "\n",
    "images = pdf2image.convert_from_path(pdf_path)\n",
    "\n",
    "pil_im = images[0]\n",
    "\n",
    "ocr_dict = pytesseract.image_to_data(pil_im, lang='eng', output_type=Output.DICT)\n",
    "\n",
    "text = \" \".join(ocr_dict['text'])"
   ]
  },
  {
   "cell_type": "code",
   "execution_count": 7,
   "id": "1a086889",
   "metadata": {},
   "outputs": [
    {
     "name": "stdout",
     "output_type": "stream",
     "text": [
      "14\n",
      "\n"
     ]
    }
   ],
   "source": [
    "import PyPDF2\n",
    "from PyPDF2 import PdfReader\n",
    "\n",
    "# pdfFileObj = open('Florida_Sample.pdf', 'rb')\n",
    "\n",
    "pdfReader = PdfReader(\"Florida_Sample.pdf\")\n",
    "\n",
    "print(len(pdfReader.pages))\n",
    "\n",
    "pageObj = pdfReader.pages[0]\n",
    "\n",
    "text = pageObj.extract_text()\n",
    "\n",
    "print(text)"
   ]
  },
  {
   "cell_type": "code",
   "execution_count": 5,
   "id": "094e0a22",
   "metadata": {},
   "outputs": [],
   "source": [
    "import pandas as pd"
   ]
  },
  {
   "cell_type": "code",
   "execution_count": 6,
   "id": "d51eb979",
   "metadata": {},
   "outputs": [
    {
     "data": {
      "text/html": [
       "<div>\n",
       "<style scoped>\n",
       "    .dataframe tbody tr th:only-of-type {\n",
       "        vertical-align: middle;\n",
       "    }\n",
       "\n",
       "    .dataframe tbody tr th {\n",
       "        vertical-align: top;\n",
       "    }\n",
       "\n",
       "    .dataframe thead th {\n",
       "        text-align: right;\n",
       "    }\n",
       "</style>\n",
       "<table border=\"1\" class=\"dataframe\">\n",
       "  <thead>\n",
       "    <tr style=\"text-align: right;\">\n",
       "      <th></th>\n",
       "      <th>Name</th>\n",
       "      <th>License</th>\n",
       "      <th>Profession</th>\n",
       "      <th>City</th>\n",
       "      <th>State</th>\n",
       "      <th>County</th>\n",
       "      <th>Case Number</th>\n",
       "      <th>Action Taken</th>\n",
       "      <th>Action Date</th>\n",
       "    </tr>\n",
       "  </thead>\n",
       "  <tbody>\n",
       "    <tr>\n",
       "      <th>0</th>\n",
       "      <td>GUZMAN, ANDREW</td>\n",
       "      <td>113678</td>\n",
       "      <td>Medical Doctor                                ...</td>\n",
       "      <td>BRADENTON</td>\n",
       "      <td>FL</td>\n",
       "      <td>MANATEE</td>\n",
       "      <td>201701820</td>\n",
       "      <td>Administrative Complaint Filed</td>\n",
       "      <td>5/7/2018</td>\n",
       "    </tr>\n",
       "    <tr>\n",
       "      <th>1</th>\n",
       "      <td>GUZMAN, ANDREW</td>\n",
       "      <td>113678</td>\n",
       "      <td>Medical Doctor                                ...</td>\n",
       "      <td>BRADENTON</td>\n",
       "      <td>FL</td>\n",
       "      <td>MANATEE</td>\n",
       "      <td>201701820</td>\n",
       "      <td>Restriction Satisfied</td>\n",
       "      <td>2/27/2019</td>\n",
       "    </tr>\n",
       "    <tr>\n",
       "      <th>2</th>\n",
       "      <td>SANDHU, RAVNEET</td>\n",
       "      <td>73415</td>\n",
       "      <td>Medical Doctor                                ...</td>\n",
       "      <td>RIVERVIEW</td>\n",
       "      <td>FL</td>\n",
       "      <td>HILLSBOROUGH</td>\n",
       "      <td>200002999</td>\n",
       "      <td>Obligations Imposed-Othr Penal</td>\n",
       "      <td>5/6/2002</td>\n",
       "    </tr>\n",
       "    <tr>\n",
       "      <th>3</th>\n",
       "      <td>STIBICH, JASON</td>\n",
       "      <td>76668</td>\n",
       "      <td>Medical Doctor                                ...</td>\n",
       "      <td>APOLLO BEACH</td>\n",
       "      <td>FL</td>\n",
       "      <td>HILLSBOROUGH</td>\n",
       "      <td>200923045</td>\n",
       "      <td>Administrative Complaint Filed</td>\n",
       "      <td>11/12/2010</td>\n",
       "    </tr>\n",
       "    <tr>\n",
       "      <th>4</th>\n",
       "      <td>STIBICH, JASON</td>\n",
       "      <td>76668</td>\n",
       "      <td>Medical Doctor                                ...</td>\n",
       "      <td>APOLLO BEACH</td>\n",
       "      <td>FL</td>\n",
       "      <td>HILLSBOROUGH</td>\n",
       "      <td>200923045</td>\n",
       "      <td>Obligation(s) Satisfied</td>\n",
       "      <td>4/11/2011</td>\n",
       "    </tr>\n",
       "    <tr>\n",
       "      <th>...</th>\n",
       "      <td>...</td>\n",
       "      <td>...</td>\n",
       "      <td>...</td>\n",
       "      <td>...</td>\n",
       "      <td>...</td>\n",
       "      <td>...</td>\n",
       "      <td>...</td>\n",
       "      <td>...</td>\n",
       "      <td>...</td>\n",
       "    </tr>\n",
       "    <tr>\n",
       "      <th>12869</th>\n",
       "      <td>ALLIANCE, LOUIDOR</td>\n",
       "      <td>382</td>\n",
       "      <td>Medical Doctor- Temporary Area of Critical Nee...</td>\n",
       "      <td>FORT PIERCE</td>\n",
       "      <td>FL</td>\n",
       "      <td>ST.LUCIE</td>\n",
       "      <td>201411309</td>\n",
       "      <td>Administrative Complaint Filed</td>\n",
       "      <td>5/2/2016</td>\n",
       "    </tr>\n",
       "    <tr>\n",
       "      <th>12870</th>\n",
       "      <td>MICHEL, JEAN-LUC</td>\n",
       "      <td>96</td>\n",
       "      <td>Medical Doctor- Temporary Area of Critical Nee...</td>\n",
       "      <td>WEST PALM BEACH</td>\n",
       "      <td>FL</td>\n",
       "      <td>PALM BEACH</td>\n",
       "      <td>201117208</td>\n",
       "      <td>Voluntary Surrender</td>\n",
       "      <td>8/13/2013</td>\n",
       "    </tr>\n",
       "    <tr>\n",
       "      <th>12871</th>\n",
       "      <td>MICHEL, JEAN-LUC</td>\n",
       "      <td>96</td>\n",
       "      <td>Medical Doctor- Temporary Area of Critical Nee...</td>\n",
       "      <td>WEST PALM BEACH</td>\n",
       "      <td>FL</td>\n",
       "      <td>PALM BEACH</td>\n",
       "      <td>201116666</td>\n",
       "      <td>Voluntary Surrender</td>\n",
       "      <td>8/13/2013</td>\n",
       "    </tr>\n",
       "    <tr>\n",
       "      <th>12872</th>\n",
       "      <td>MICHEL, JEAN-LUC</td>\n",
       "      <td>96</td>\n",
       "      <td>Medical Doctor- Temporary Area of Critical Nee...</td>\n",
       "      <td>WEST PALM BEACH</td>\n",
       "      <td>FL</td>\n",
       "      <td>PALM BEACH</td>\n",
       "      <td>201117208</td>\n",
       "      <td>Administrative Complaint Filed</td>\n",
       "      <td>4/30/2012</td>\n",
       "    </tr>\n",
       "    <tr>\n",
       "      <th>12873</th>\n",
       "      <td>MICHEL, JEAN-LUC</td>\n",
       "      <td>96</td>\n",
       "      <td>Medical Doctor- Temporary Area of Critical Nee...</td>\n",
       "      <td>WEST PALM BEACH</td>\n",
       "      <td>FL</td>\n",
       "      <td>PALM BEACH</td>\n",
       "      <td>201116666</td>\n",
       "      <td>Administrative Complaint Filed</td>\n",
       "      <td>6/1/2012</td>\n",
       "    </tr>\n",
       "  </tbody>\n",
       "</table>\n",
       "<p>12874 rows × 9 columns</p>\n",
       "</div>"
      ],
      "text/plain": [
       "                    Name   License  \\\n",
       "0         GUZMAN, ANDREW    113678   \n",
       "1         GUZMAN, ANDREW    113678   \n",
       "2        SANDHU, RAVNEET     73415   \n",
       "3         STIBICH, JASON     76668   \n",
       "4         STIBICH, JASON     76668   \n",
       "...                  ...       ...   \n",
       "12869  ALLIANCE, LOUIDOR       382   \n",
       "12870   MICHEL, JEAN-LUC        96   \n",
       "12871   MICHEL, JEAN-LUC        96   \n",
       "12872   MICHEL, JEAN-LUC        96   \n",
       "12873   MICHEL, JEAN-LUC        96   \n",
       "\n",
       "                                              Profession             City  \\\n",
       "0      Medical Doctor                                ...        BRADENTON   \n",
       "1      Medical Doctor                                ...        BRADENTON   \n",
       "2      Medical Doctor                                ...        RIVERVIEW   \n",
       "3      Medical Doctor                                ...     APOLLO BEACH   \n",
       "4      Medical Doctor                                ...     APOLLO BEACH   \n",
       "...                                                  ...              ...   \n",
       "12869  Medical Doctor- Temporary Area of Critical Nee...      FORT PIERCE   \n",
       "12870  Medical Doctor- Temporary Area of Critical Nee...  WEST PALM BEACH   \n",
       "12871  Medical Doctor- Temporary Area of Critical Nee...  WEST PALM BEACH   \n",
       "12872  Medical Doctor- Temporary Area of Critical Nee...  WEST PALM BEACH   \n",
       "12873  Medical Doctor- Temporary Area of Critical Nee...  WEST PALM BEACH   \n",
       "\n",
       "        State        County   Case Number                    Action Taken  \\\n",
       "0          FL       MANATEE     201701820  Administrative Complaint Filed   \n",
       "1          FL       MANATEE     201701820           Restriction Satisfied   \n",
       "2          FL  HILLSBOROUGH     200002999  Obligations Imposed-Othr Penal   \n",
       "3          FL  HILLSBOROUGH     200923045  Administrative Complaint Filed   \n",
       "4          FL  HILLSBOROUGH     200923045         Obligation(s) Satisfied   \n",
       "...       ...           ...           ...                             ...   \n",
       "12869      FL      ST.LUCIE     201411309  Administrative Complaint Filed   \n",
       "12870      FL    PALM BEACH     201117208             Voluntary Surrender   \n",
       "12871      FL    PALM BEACH     201116666             Voluntary Surrender   \n",
       "12872      FL    PALM BEACH     201117208  Administrative Complaint Filed   \n",
       "12873      FL    PALM BEACH     201116666  Administrative Complaint Filed   \n",
       "\n",
       "       Action Date  \n",
       "0         5/7/2018  \n",
       "1        2/27/2019  \n",
       "2         5/6/2002  \n",
       "3       11/12/2010  \n",
       "4        4/11/2011  \n",
       "...            ...  \n",
       "12869     5/2/2016  \n",
       "12870    8/13/2013  \n",
       "12871    8/13/2013  \n",
       "12872    4/30/2012  \n",
       "12873     6/1/2012  \n",
       "\n",
       "[12874 rows x 9 columns]"
      ]
     },
     "execution_count": 6,
     "metadata": {},
     "output_type": "execute_result"
    }
   ],
   "source": [
    "florida_raw = pd.read_csv('Florida.csv')\n",
    "florida_raw"
   ]
  },
  {
   "cell_type": "code",
   "execution_count": null,
   "id": "d8a2bd2c",
   "metadata": {},
   "outputs": [],
   "source": []
  }
 ],
 "metadata": {
  "kernelspec": {
   "display_name": "Python 3 (ipykernel)",
   "language": "python",
   "name": "python3"
  },
  "language_info": {
   "codemirror_mode": {
    "name": "ipython",
    "version": 3
   },
   "file_extension": ".py",
   "mimetype": "text/x-python",
   "name": "python",
   "nbconvert_exporter": "python",
   "pygments_lexer": "ipython3",
   "version": "3.9.12"
  }
 },
 "nbformat": 4,
 "nbformat_minor": 5
}
