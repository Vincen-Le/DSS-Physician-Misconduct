{
 "cells": [
  {
   "cell_type": "code",
   "execution_count": 33,
   "id": "2bdb0c49",
   "metadata": {},
   "outputs": [],
   "source": [
    "from selenium import webdriver\n",
    "from selenium.webdriver.support.ui import Select\n",
    "from selenium.webdriver.common.keys import Keys\n",
    "from selenium.webdriver.common.by import By\n",
    "import pandas as pd\n",
    "import requests as requests"
   ]
  },
  {
   "cell_type": "code",
   "execution_count": 34,
   "id": "48975be1",
   "metadata": {},
   "outputs": [
    {
     "name": "stderr",
     "output_type": "stream",
     "text": [
      "/var/folders/_c/fp607_2j39x__w13t901twg00000gn/T/ipykernel_8681/1340439143.py:1: DeprecationWarning: executable_path has been deprecated, please pass in a Service object\n",
      "  driver = webdriver.Chrome('/Desktop/Berkeley/DSS-Physician-Misconduct/chromedriver')\n"
     ]
    }
   ],
   "source": [
    "driver = webdriver.Chrome('/Desktop/Berkeley/DSS-Physician-Misconduct/chromedriver')\n",
    "url = 'https://mqa-internet.doh.state.fl.us/MQASearchServices/EnforcementActionsPractitioner'\n",
    "driver.get(url)"
   ]
  },
  {
   "cell_type": "code",
   "execution_count": 35,
   "id": "8aa9fd3d",
   "metadata": {},
   "outputs": [],
   "source": [
    "board_drop = Select(driver.find_element(By.ID, \"BoardDD\"))\n",
    "board_drop.select_by_value(\"15\")\n",
    "search_button = driver.find_element(By.XPATH, '//*[@id=\"content\"]/div/form[1]/fieldset/p/input').click()"
   ]
  },
  {
   "cell_type": "code",
   "execution_count": null,
   "id": "d4f70e32",
   "metadata": {},
   "outputs": [],
   "source": []
  }
 ],
 "metadata": {
  "kernelspec": {
   "display_name": "Python 3 (ipykernel)",
   "language": "python",
   "name": "python3"
  },
  "language_info": {
   "codemirror_mode": {
    "name": "ipython",
    "version": 3
   },
   "file_extension": ".py",
   "mimetype": "text/x-python",
   "name": "python",
   "nbconvert_exporter": "python",
   "pygments_lexer": "ipython3",
   "version": "3.9.12"
  }
 },
 "nbformat": 4,
 "nbformat_minor": 5
}
